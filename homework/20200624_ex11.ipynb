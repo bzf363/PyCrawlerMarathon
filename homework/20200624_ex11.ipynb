{
 "cells": [
  {
   "cell_type": "code",
   "execution_count": null,
   "metadata": {},
   "outputs": [],
   "source": [
    "import re\n",
    "\n",
    "test_string = \"Google IP address is 216.58.200.227\"\n",
    "\n",
    "regex=r'(25[0-5]|2[0-4][0-9]|[1-9][0-9][0-9]|[1-9][0-9]|[0-9])\\.(25[0-5]|2[0-4][0-9]|[1-9][0-9][0-9]|[1-9][0-9]|[0-9])\\.(25[0-5]|2[0-4][0-9]|[1-9][0-9][0-9]|[1-9][0-9]|[0-9])\\.(25[0-5]|2[0-4][0-9]|[1-9][0-9][0-9]|[1-9][0-9]|[0-9])'\n",
    "\n",
    "#nb=25[0-5]|2[0-4][0-9]|[1-9][0-9][0-9]|[1-9][0-9]|[0-9]\n",
    "\n",
    "pattern = re.compile(regex)\n",
    "\n",
    "print(pattern.findall(test_string))\n",
    "\n",
    "html_a_tag = \"<a href=https://movies.yahoo.com.tw/movietime_result.html/id=9467> 時刻表 </a>\"\n",
    "\n",
    "regex1=r'https?://(?:[-\\w.]|(?:%[\\da-fA-F]{2}))+[-a-z0-9_:@&?=+,.!\\/~*\\'%$]*'\n",
    "\n",
    "pattern1 = re.compile(regex1)\n",
    "\n",
    "print (pattern1.findall(html_a_tag))"
   ]
  }
 ],
 "metadata": {
  "kernelspec": {
   "display_name": "Python 3",
   "language": "python",
   "name": "python3"
  },
  "language_info": {
   "codemirror_mode": {
    "name": "ipython",
    "version": 3
   },
   "file_extension": ".py",
   "mimetype": "text/x-python",
   "name": "python",
   "nbconvert_exporter": "python",
   "pygments_lexer": "ipython3",
   "version": "3.7.6"
  }
 },
 "nbformat": 4,
 "nbformat_minor": 4
}
