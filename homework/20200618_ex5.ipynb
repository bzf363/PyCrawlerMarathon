{
 "cells": [
  {
   "cell_type": "code",
   "execution_count": null,
   "metadata": {},
   "outputs": [],
   "source": [
    "\n",
    "import requests #引入api函數\n",
    "import json #所讀取的資料可以被分類\n",
    "import numpy as np #計算平均值\n",
    "#想要爬資料的 標網址\n",
    "r= requests.get('https://www.dcard.tw/_api/forums/pet/posts?popular=true')\n",
    "\n",
    "\n",
    "response=json.loads(r.text)\n",
    "\n",
    "#1. 這個 API 一次會回傳幾筆資料？\n",
    "print(len(response))\n",
    "print()\n",
    "#1. 每一筆資料包含哪些欄位？\n",
    "print(response[0].keys())\n",
    "print()\n",
    "\n",
    "#2. 取出每一筆資料的「標題」、「貼文時間」、「留言人數」、「按讚人數\n",
    "for i in response:\n",
    "    print(i['title'],i['updatedAt'],i['commentCount'],i['likeCount'])\n",
    "    print()\n",
    "    \n",
    "#3. 計算熱門/非熱門文章的「平均留言人數」與「平均按讚人數」\n",
    "    \n",
    "total=len(response)\n",
    "commentCount=[]\n",
    "likeCount=[]\n",
    "for i in range (0, total, 1):\n",
    "    commentCount.append(response[i]['commentCount'])\n",
    "    likeCount.append(response[i]['likeCount'])\n",
    "    \n",
    "print(\"commentCount_average\",np.mean(commentCount))\n",
    "print(\"likeCount_average\",np.mean(likeCount))"
   ]
  }
 ],
 "metadata": {
  "kernelspec": {
   "display_name": "Python 3",
   "language": "python",
   "name": "python3"
  },
  "language_info": {
   "codemirror_mode": {
    "name": "ipython",
    "version": 3
   },
   "file_extension": ".py",
   "mimetype": "text/x-python",
   "name": "python",
   "nbconvert_exporter": "python",
   "pygments_lexer": "ipython3",
   "version": "3.7.6"
  }
 },
 "nbformat": 4,
 "nbformat_minor": 4
}
