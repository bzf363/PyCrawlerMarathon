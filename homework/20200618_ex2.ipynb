{
 "cells": [
  {
   "cell_type": "code",
   "execution_count": null,
   "metadata": {},
   "outputs": [],
   "source": [
    "#File I/O\n",
    "\n",
    "osfile= open ('/Users/chenshihti/Desktop/example.csv','r') #將檔案打開，無法看具體內容\n",
    "content=osfile.read() # .read() 才能看到檔案實際資料\n",
    "#print(content)\n",
    "osfile.close()\n",
    "\n",
    "with open ('/Users/chenshihti/Desktop/example.csv','r') as osfile2:\n",
    "    content2=osfile2.read() # .read() 才能看到檔案實際資料\n",
    "    #print(content2)\n",
    "    \n",
    "#CSV Reader\n",
    "\n",
    "import csv\n",
    "\n",
    "with open ('/Users/chenshihti/Desktop/example.csv','r') as osfile3:\n",
    "    csvReader=csv.reader(osfile3) #將檔案打開，無法看具體內容\n",
    "    \n",
    "    # method 1\n",
    "    \n",
    "    listreport =list(csvReader) #轉list才可以看資料\n",
    "    #for i in range (1,len(listreport),1):\n",
    "    # 1. 取出班次一的每一個時間\n",
    "    print(listreport[1][5:15:1])\n",
    "    # 2. 將班次一的每一個時間用一個變數保存\n",
    "    datastorage1=listreport[1][5:15:1]\n",
    "    datastorage2=[]\n",
    "    # 3. 將所有班次和其每一個時間用一個變數保存\n",
    "    for i in range (1,len(listreport),1):\n",
    "        datastorage2.append(listreport[i][5:15:1])"
   ]
  }
 ],
 "metadata": {
  "kernelspec": {
   "display_name": "Python 3",
   "language": "python",
   "name": "python3"
  },
  "language_info": {
   "codemirror_mode": {
    "name": "ipython",
    "version": 3
   },
   "file_extension": ".py",
   "mimetype": "text/x-python",
   "name": "python",
   "nbconvert_exporter": "python",
   "pygments_lexer": "ipython3",
   "version": "3.7.6"
  }
 },
 "nbformat": 4,
 "nbformat_minor": 4
}
