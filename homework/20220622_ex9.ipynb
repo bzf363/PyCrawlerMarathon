{
 "cells": [
  {
   "cell_type": "code",
   "execution_count": null,
   "metadata": {},
   "outputs": [],
   "source": [
    "\n",
    "import requests\n",
    "from bs4 import BeautifulSoup\n",
    "from lxml import etree\n",
    "#from PIL import Image\n",
    "import os\n",
    "\n",
    "\n",
    "#output_dir = 'download3'\n",
    "#os.makedirs(output_dir)\n",
    "\n",
    "h={'user-agent': 'Mozilla/5.0 (Macintosh; Intel Mac OS X 10_11_6) AppleWebKit/537.36 (KHTML, like Gecko) Chrome/83.0.4103.97 Safari/537.36'}\n",
    "r= requests.get(\"https://www.ptt.cc/bbs/Beauty/M.1556291059.A.75A.html\", cookies={'over18': '1'}, headers=h)\n",
    "\n",
    "soup= BeautifulSoup(r.text,'lxml') #以lxml做為解析器（必寫）\n",
    "\n",
    "xml=etree.HTML(r.text)\n",
    "\n",
    "img_id=xml.xpath('//blockquote[@class=\"imgur-embed-pub\"]/@data-id')\n",
    "\n",
    "\n",
    "#下載圖片\n",
    "for i in range(len(img_id)):\n",
    "    img_url = ('https://imgur.com/%s.jpg' %(img_id[i]))\n",
    "    picture=requests.get(img_url)    \n",
    "    print (\"下載圖片\",img_id[i])\n",
    "    \n",
    "#存圖片    \n",
    "    fname ='photo'+img_id[i]\n",
    "    with open (fname, 'wb') as f:\n",
    "        f.write(picture.content)"
   ]
  }
 ],
 "metadata": {
  "kernelspec": {
   "display_name": "Python 3",
   "language": "python",
   "name": "python3"
  },
  "language_info": {
   "codemirror_mode": {
    "name": "ipython",
    "version": 3
   },
   "file_extension": ".py",
   "mimetype": "text/x-python",
   "name": "python",
   "nbconvert_exporter": "python",
   "pygments_lexer": "ipython3",
   "version": "3.7.6"
  }
 },
 "nbformat": 4,
 "nbformat_minor": 4
}
