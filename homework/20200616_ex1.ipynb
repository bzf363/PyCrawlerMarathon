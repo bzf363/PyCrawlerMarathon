{
 "cells": [
  {
   "cell_type": "code",
   "execution_count": null,
   "metadata": {},
   "outputs": [],
   "source": [
    "from urllib.request import urlretrieve as ul\n",
    "import os\n",
    "\n",
    "#建立Data資料夾\n",
    "\n",
    "fpath= \"/Users/chenshihti/Desktop/Data\"\n",
    "if os.path.exists(fpath):\n",
    "    print (\"不用建立\")\n",
    "else:\n",
    "    os.mkdir(fpath)\n",
    "\n",
    "#下載指定檔案到Data資料夾，存成檔名Homework.txt\n",
    "    \n",
    "ul (\"https://www.w3.org/TR/PNG/iso_8859-1.txt\", \"./Data/Homework.txt\")\n",
    "\n",
    "#檢查 Data 資料夾是否有 Homework.txt 檔名之檔案\n",
    "\n",
    "if os.path.isfile(\"/Users/chenshihti/Desktop/Data/Homework.txt\"):\n",
    "    print (\"file exists\")\n",
    "else:\n",
    "    print ('filde doesn\\' t exist')\n",
    "\n",
    "#將「Hello World」字串覆寫到 Homework.txt 檔案\n",
    "\n",
    "with open (\"/Users/chenshihti/Desktop/Data/Homework.txt\",'w') as fn:\n",
    "    fn.write(\"Hello World\")\n",
    "\n",
    "#檢查 Homework.txt 檔案字數是否符合 Hello World 字數\n",
    "    \n",
    "with open (\"/Users/chenshihti/Desktop/Data/Homework.txt\",'r')as fn2:\n",
    "    countfn2=fn2.read()\n",
    "\n",
    "#用rstrip()將文字間的空格切除，len()計算檔案的長度\n",
    "    \n",
    "finalcountal=countfn2.rstrip()\n",
    "orignal= \"Hello World\"\n",
    "orignal2=orignal.rstrip()\n",
    "\n",
    "if len(finalcountal) == len(orignal2):\n",
    "    print (\"檔案字數符合 Hello World 字數\")\n",
    "else:\n",
    "    print (\"檔案字數不符合 Hello World 字數\")       "
   ]
  }
 ],
 "metadata": {
  "kernelspec": {
   "display_name": "Python 3",
   "language": "python",
   "name": "python3"
  },
  "language_info": {
   "codemirror_mode": {
    "name": "ipython",
    "version": 3
   },
   "file_extension": ".py",
   "mimetype": "text/x-python",
   "name": "python",
   "nbconvert_exporter": "python",
   "pygments_lexer": "ipython3",
   "version": "3.7.6"
  }
 },
 "nbformat": 4,
 "nbformat_minor": 4
}
