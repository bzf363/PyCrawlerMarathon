{
 "cells": [
  {
   "cell_type": "code",
   "execution_count": null,
   "metadata": {},
   "outputs": [],
   "source": [
    "import requests\n",
    "import json\n",
    "\n",
    "#header={'user-agent':'自己的agent名稱'}\n",
    "h={'user-agent': 'Mozilla/5.0 (Macintosh; Intel Mac OS X 10_11_6) AppleWebKit/537.36 (KHTML, like Gecko) Chrome/83.0.4103.97 Safari/537.36'}\n",
    "w='https://www.zhihu.com/api/v4/questions/55493026/answers'\n",
    "\n",
    "r= requests.get(w,headers=h)\n",
    "data=json.loads(r.text)\n",
    "\n",
    "#data1為dict 所以不可以for i in list\n",
    "\n",
    "#1. 取出知乎問題發問時間\n",
    "\n",
    "print (data['data'][0]['created_time'])\n",
    "    \n",
    "#2. 取出第一筆與最後一筆回答的時間\n",
    "\n",
    "total = len(data['data'])\n",
    "\n",
    "time_list=[]\n",
    "\n",
    "for i in range(1,total,1):\n",
    "    time_list.append(data['data'][i]['created_time'])\n",
    "    \n",
    "print (time_list[0]) #取出第一筆\n",
    "print (time_list[-1]) #最後一筆"
   ]
  }
 ],
 "metadata": {
  "kernelspec": {
   "display_name": "Python 3",
   "language": "python",
   "name": "python3"
  },
  "language_info": {
   "codemirror_mode": {
    "name": "ipython",
    "version": 3
   },
   "file_extension": ".py",
   "mimetype": "text/x-python",
   "name": "python",
   "nbconvert_exporter": "python",
   "pygments_lexer": "ipython3",
   "version": "3.7.6"
  }
 },
 "nbformat": 4,
 "nbformat_minor": 4
}
