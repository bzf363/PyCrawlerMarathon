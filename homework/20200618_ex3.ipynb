{
 "cells": [
  {
   "cell_type": "code",
   "execution_count": null,
   "metadata": {},
   "outputs": [],
   "source": [
    "import xmltodict #import 套件xmltodict為推薦套件\n",
    "\n",
    "with open ('/Users/chenshihti/Desktop/example_ex3/64_Week24_CH.xml') as fd:\n",
    "    \n",
    "    doc = dict(xmltodict.parse(fd.read())) #將資料讀出\n",
    "    \n",
    "    #打開文字檔，一層一層的找你要的資料，找到含內容text的那層為止\n",
    "    #往下拉到最後比較容易看架構\n",
    "    docdata = doc['cwbopendata']['dataset']['locations']['location']\n",
    "    \n",
    "    \n",
    "    for i in docdata:\n",
    "        #請問高雄市有多少地區有溫度資料\n",
    "        print (i['locationName']) #查找docdata中list內的key就能把資料讀出來\n",
    "     \n",
    "    #location內的資料型態為list不能往下剝 \n",
    "    #取list的時候用index號碼代替，有orderdict時可以再改取key值\n",
    "    \n",
    "    #請取出每一個地區所記錄的第一個時間點跟溫度    \n",
    "    doctemp1=[] #時間\n",
    "    doctemp2=[] #溫度\n",
    "    for i in range (0, len(docdata), 1):    \n",
    "        doctemp1.append(doc['cwbopendata']['dataset']['locations']['location'][i]['weatherElement'][0]['time'][0]['startTime'])\n",
    "        doctemp2.append(doc['cwbopendata']['dataset']['locations']['location'][i]['weatherElement'][0]['time'][0]['elementValue']['value'])\n",
    "    \n",
    "    #請取出第一個地區所記錄的每一個時間點跟溫度\n",
    "    \n",
    "    doctemp1area=doc['cwbopendata']['dataset']['locations']['location'][0]['weatherElement'][0]['time']\n",
    "    \n",
    "    doctemp1area1=[] #時間\n",
    "    doctemp1area2=[] #溫度\n",
    "    for i in range(0, len(doctemp1area), 1):\n",
    "        \n",
    "        doctemp1area1.append(doctemp1area[i]['startTime'])\n",
    "        doctemp1area2.append(doctemp1area[i]['elementValue']['value'])\n"
   ]
  }
 ],
 "metadata": {
  "kernelspec": {
   "display_name": "Python 3",
   "language": "python",
   "name": "python3"
  },
  "language_info": {
   "codemirror_mode": {
    "name": "ipython",
    "version": 3
   },
   "file_extension": ".py",
   "mimetype": "text/x-python",
   "name": "python",
   "nbconvert_exporter": "python",
   "pygments_lexer": "ipython3",
   "version": "3.7.6"
  }
 },
 "nbformat": 4,
 "nbformat_minor": 4
}
