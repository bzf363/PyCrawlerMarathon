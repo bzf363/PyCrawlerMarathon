{
 "cells": [
  {
   "cell_type": "code",
   "execution_count": null,
   "metadata": {},
   "outputs": [],
   "source": [
    "import requests \n",
    "\n",
    "r1= requests.get('https://www.dcard.tw/f') \n",
    "\n",
    "#3. 觀察一下知乎回來的資料好像有點怪怪的，該怎麼解決？ 加入headers通常只要家user-agent即可\n",
    "\n",
    "h2={'user-agent': 'Mozilla/5.0 (Macintosh; Intel Mac OS X 10_11_6) AppleWebKit/537.36 (KHTML, like Gecko) Chrome/83.0.4103.97 Safari/537.36'}\n",
    "\n",
    "r2= requests.get('https://www.zhihu.com/explore',headers=h2)\n",
    "\n",
    "\n",
    "\n",
    "r1_html=r1.text #find out the html\n",
    "r2_html=r2.text\n",
    "\n",
    "#1. Request 取回之後該怎麼取出資料，資料型態是什麼？\n",
    "\n",
    "print(\"r1:\",type(r1_html))\n",
    "print(\"r2:\",type(r2_html))\n",
    "\n",
    "#print(r1_html)\n",
    "\n",
    "\n",
    "from bs4 import BeautifulSoup\n",
    "\n",
    "#2. 為什麼要使用 BeatifulSoup 處理？\n",
    "\n",
    "soup1 = BeautifulSoup(r1_html,features=\"lxml\")\n",
    "soup2 = BeautifulSoup(r2_html,features=\"lxml\")\n",
    "\n",
    "print (soup2)\n",
    "print('soup1:',type(soup1))\n",
    "print('soup2:',type(soup2))"
   ]
  }
 ],
 "metadata": {
  "kernelspec": {
   "display_name": "Python 3",
   "language": "python",
   "name": "python3"
  },
  "language_info": {
   "codemirror_mode": {
    "name": "ipython",
    "version": 3
   },
   "file_extension": ".py",
   "mimetype": "text/x-python",
   "name": "python",
   "nbconvert_exporter": "python",
   "pygments_lexer": "ipython3",
   "version": "3.7.6"
  }
 },
 "nbformat": 4,
 "nbformat_minor": 4
}
